{
 "cells": [
  {
   "cell_type": "markdown",
   "id": "b3ee7174-fda4-4e3a-b439-6d012b61beb3",
   "metadata": {},
   "source": [
    "list of general use exception"
   ]
  },
  {
   "cell_type": "markdown",
   "id": "03767fda-c8f9-4ec5-8a3b-71440018a3c6",
   "metadata": {},
   "source": [
    "1.zeroDivisionError"
   ]
  },
  {
   "cell_type": "code",
   "execution_count": 1,
   "id": "d2d7ab42-5330-4c05-8597-793e7dc521e9",
   "metadata": {},
   "outputs": [
    {
     "name": "stdout",
     "output_type": "stream",
     "text": [
      "division by zero\n"
     ]
    }
   ],
   "source": [
    "try:\n",
    "    a=10\n",
    "    10/0\n",
    "except ZeroDivisionError as e:\n",
    "    print(e)"
   ]
  },
  {
   "cell_type": "markdown",
   "id": "73772595-9592-41f6-992b-1acb50335690",
   "metadata": {},
   "source": [
    "2.value error,try error"
   ]
  },
  {
   "cell_type": "markdown",
   "id": "81944398-b0da-4efb-8513-d302b3e3e3a8",
   "metadata": {},
   "source": [
    "\n",
    "3.import error\n",
    "4.keyerror\n",
    "5.attribute error\n",
    "6.index error\n",
    "7.type error\n",
    "8.file not found error"
   ]
  },
  {
   "cell_type": "markdown",
   "id": "56f772d0-65a0-41a2-8be9-7afd2846a8a9",
   "metadata": {},
   "source": [
    "BEST PRACTICE IN EXCEPTION HANDLING"
   ]
  },
  {
   "cell_type": "code",
   "execution_count": null,
   "id": "ca256cfd-41f0-4655-a7b6-424a7adf00d6",
   "metadata": {},
   "outputs": [],
   "source": [
    "1.use always a specific exception\n",
    "2.print always a valid msg\n",
    "3.always try to log\n",
    "4.always avoid "
   ]
  }
 ],
 "metadata": {
  "kernelspec": {
   "display_name": "Python 3 (ipykernel)",
   "language": "python",
   "name": "python3"
  },
  "language_info": {
   "codemirror_mode": {
    "name": "ipython",
    "version": 3
   },
   "file_extension": ".py",
   "mimetype": "text/x-python",
   "name": "python",
   "nbconvert_exporter": "python",
   "pygments_lexer": "ipython3",
   "version": "3.10.8"
  }
 },
 "nbformat": 4,
 "nbformat_minor": 5
}
